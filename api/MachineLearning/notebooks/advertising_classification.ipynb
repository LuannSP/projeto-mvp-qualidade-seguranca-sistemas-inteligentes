{
  "cells": [
    {
      "cell_type": "markdown",
      "metadata": {
        "id": "view-in-github"
      },
      "source": [
        "<a href=\"https://colab.research.google.com/github/dipucriodigital/ciencia-de-dados-e-analytics/blob/main/machine-learning/ML_Aula3b.ipynb\" target=\"_parent\"><img src=\"https://colab.research.google.com/assets/colab-badge.svg\" alt=\"Open In Colab\"/></a>"
      ]
    },
    {
      "cell_type": "markdown",
      "metadata": {
        "id": "otEdveLq8Hn0"
      },
      "source": [
        "## Luann Gonçalves - Projeto Machine Learning\n",
        "### Notebook para desenvolvimento do MVP Qualidade de Software, Segurança e Sistemas Inteligentes\n",
        "\n",
        "### PUC-RIO"
      ]
    },
    {
      "cell_type": "markdown",
      "metadata": {
        "id": "xQoh0_MSaUOa"
      },
      "source": [
        "## Preparação do ambiente"
      ]
    },
    {
      "cell_type": "code",
      "execution_count": 22,
      "metadata": {
        "id": "RCn8CH4M7wF-"
      },
      "outputs": [],
      "source": [
        "# Não exibir os avisos\n",
        "import warnings\n",
        "warnings.filterwarnings(\"ignore\")\n",
        "\n",
        "# Importações necessárias\n",
        "import pandas as pd\n",
        "import numpy as np\n",
        "import pickle\n",
        "import matplotlib.pyplot as plt\n",
        "from sklearn.preprocessing import StandardScaler\n",
        "from sklearn.preprocessing import MinMaxScaler\n",
        "from sklearn.model_selection import train_test_split\n",
        "from sklearn.model_selection import KFold\n",
        "from sklearn.model_selection import StratifiedKFold\n",
        "from sklearn.model_selection import cross_val_score\n",
        "from sklearn.model_selection import GridSearchCV\n",
        "from sklearn.metrics import accuracy_score\n",
        "from sklearn.pipeline import Pipeline\n",
        "from sklearn.linear_model import LogisticRegression\n",
        "from sklearn.tree import DecisionTreeClassifier\n",
        "from sklearn.neighbors import KNeighborsClassifier\n",
        "from sklearn.naive_bayes import GaussianNB\n",
        "from sklearn.svm import SVC\n",
        "from sklearn.ensemble import BaggingClassifier\n",
        "from sklearn.ensemble import RandomForestClassifier\n",
        "from sklearn.ensemble import ExtraTreesClassifier\n",
        "from sklearn.ensemble import VotingClassifier\n",
        "from sklearn.ensemble import AdaBoostClassifier\n",
        "from sklearn.ensemble import GradientBoostingClassifier\n",
        "from sklearn.preprocessing import KBinsDiscretizer\n"
      ]
    },
    {
      "cell_type": "markdown",
      "metadata": {
        "id": "2PcB0Efd-MS4"
      },
      "source": [
        "##Importação do Dataset\n",
        "\n",
        "O dataset contém informações sobre investimentos em propagandas de TV, rádio, jornal e vendas associadas. Cada registro representa uma combinação de investimentos e vendas resultantes, e inclui detalhes sobre os valores aplicados em diferentes mídias.\n",
        "\n",
        "###Descrição de Cada Coluna\n",
        "\n",
        "- TV: Valor investido em propaganda na televisão.\n",
        "- Rádio: Valor investido em propaganda no rádio.\n",
        "- Jornal: Valor investido em propaganda no jornal.\n",
        "- Vendas: Total de vendas geradas a partir dos investimentos em propaganda.\n",
        "\n",
        "##Objetivo\n",
        "\n",
        "O objetivo é permitir que os usuários insiram os valores que desejam investir em propagandas de TV, rádio e jornal. Com base nesses investimentos, o modelo de machine learning irá prever o total de vendas que podem ser geradas, auxiliando na tomada de decisões sobre alocação de orçamento publicitário."
      ]
    },
    {
      "cell_type": "code",
      "execution_count": 36,
      "metadata": {
        "colab": {
          "base_uri": "https://localhost:8080/",
          "height": 206
        },
        "id": "29AFuCPtvG_i",
        "outputId": "d98ed47e-5cfe-427c-f60d-a755fdf4c319"
      },
      "outputs": [
        {
          "output_type": "execute_result",
          "data": {
            "text/plain": [
              "      TV  Radio  Jornal  Vendas\n",
              "0  230.1   37.8    69.2    22.1\n",
              "1   44.5   39.3    45.1    10.4\n",
              "2   17.2   45.9    69.3    12.0\n",
              "3  151.5   41.3    58.5    16.5\n",
              "4  180.8   10.8    58.4    17.9"
            ],
            "text/html": [
              "\n",
              "  <div id=\"df-65e168e1-f9df-46ef-bd85-e0560f2b5814\" class=\"colab-df-container\">\n",
              "    <div>\n",
              "<style scoped>\n",
              "    .dataframe tbody tr th:only-of-type {\n",
              "        vertical-align: middle;\n",
              "    }\n",
              "\n",
              "    .dataframe tbody tr th {\n",
              "        vertical-align: top;\n",
              "    }\n",
              "\n",
              "    .dataframe thead th {\n",
              "        text-align: right;\n",
              "    }\n",
              "</style>\n",
              "<table border=\"1\" class=\"dataframe\">\n",
              "  <thead>\n",
              "    <tr style=\"text-align: right;\">\n",
              "      <th></th>\n",
              "      <th>TV</th>\n",
              "      <th>Radio</th>\n",
              "      <th>Jornal</th>\n",
              "      <th>Vendas</th>\n",
              "    </tr>\n",
              "  </thead>\n",
              "  <tbody>\n",
              "    <tr>\n",
              "      <th>0</th>\n",
              "      <td>230.1</td>\n",
              "      <td>37.8</td>\n",
              "      <td>69.2</td>\n",
              "      <td>22.1</td>\n",
              "    </tr>\n",
              "    <tr>\n",
              "      <th>1</th>\n",
              "      <td>44.5</td>\n",
              "      <td>39.3</td>\n",
              "      <td>45.1</td>\n",
              "      <td>10.4</td>\n",
              "    </tr>\n",
              "    <tr>\n",
              "      <th>2</th>\n",
              "      <td>17.2</td>\n",
              "      <td>45.9</td>\n",
              "      <td>69.3</td>\n",
              "      <td>12.0</td>\n",
              "    </tr>\n",
              "    <tr>\n",
              "      <th>3</th>\n",
              "      <td>151.5</td>\n",
              "      <td>41.3</td>\n",
              "      <td>58.5</td>\n",
              "      <td>16.5</td>\n",
              "    </tr>\n",
              "    <tr>\n",
              "      <th>4</th>\n",
              "      <td>180.8</td>\n",
              "      <td>10.8</td>\n",
              "      <td>58.4</td>\n",
              "      <td>17.9</td>\n",
              "    </tr>\n",
              "  </tbody>\n",
              "</table>\n",
              "</div>\n",
              "    <div class=\"colab-df-buttons\">\n",
              "\n",
              "  <div class=\"colab-df-container\">\n",
              "    <button class=\"colab-df-convert\" onclick=\"convertToInteractive('df-65e168e1-f9df-46ef-bd85-e0560f2b5814')\"\n",
              "            title=\"Convert this dataframe to an interactive table.\"\n",
              "            style=\"display:none;\">\n",
              "\n",
              "  <svg xmlns=\"http://www.w3.org/2000/svg\" height=\"24px\" viewBox=\"0 -960 960 960\">\n",
              "    <path d=\"M120-120v-720h720v720H120Zm60-500h600v-160H180v160Zm220 220h160v-160H400v160Zm0 220h160v-160H400v160ZM180-400h160v-160H180v160Zm440 0h160v-160H620v160ZM180-180h160v-160H180v160Zm440 0h160v-160H620v160Z\"/>\n",
              "  </svg>\n",
              "    </button>\n",
              "\n",
              "  <style>\n",
              "    .colab-df-container {\n",
              "      display:flex;\n",
              "      gap: 12px;\n",
              "    }\n",
              "\n",
              "    .colab-df-convert {\n",
              "      background-color: #E8F0FE;\n",
              "      border: none;\n",
              "      border-radius: 50%;\n",
              "      cursor: pointer;\n",
              "      display: none;\n",
              "      fill: #1967D2;\n",
              "      height: 32px;\n",
              "      padding: 0 0 0 0;\n",
              "      width: 32px;\n",
              "    }\n",
              "\n",
              "    .colab-df-convert:hover {\n",
              "      background-color: #E2EBFA;\n",
              "      box-shadow: 0px 1px 2px rgba(60, 64, 67, 0.3), 0px 1px 3px 1px rgba(60, 64, 67, 0.15);\n",
              "      fill: #174EA6;\n",
              "    }\n",
              "\n",
              "    .colab-df-buttons div {\n",
              "      margin-bottom: 4px;\n",
              "    }\n",
              "\n",
              "    [theme=dark] .colab-df-convert {\n",
              "      background-color: #3B4455;\n",
              "      fill: #D2E3FC;\n",
              "    }\n",
              "\n",
              "    [theme=dark] .colab-df-convert:hover {\n",
              "      background-color: #434B5C;\n",
              "      box-shadow: 0px 1px 3px 1px rgba(0, 0, 0, 0.15);\n",
              "      filter: drop-shadow(0px 1px 2px rgba(0, 0, 0, 0.3));\n",
              "      fill: #FFFFFF;\n",
              "    }\n",
              "  </style>\n",
              "\n",
              "    <script>\n",
              "      const buttonEl =\n",
              "        document.querySelector('#df-65e168e1-f9df-46ef-bd85-e0560f2b5814 button.colab-df-convert');\n",
              "      buttonEl.style.display =\n",
              "        google.colab.kernel.accessAllowed ? 'block' : 'none';\n",
              "\n",
              "      async function convertToInteractive(key) {\n",
              "        const element = document.querySelector('#df-65e168e1-f9df-46ef-bd85-e0560f2b5814');\n",
              "        const dataTable =\n",
              "          await google.colab.kernel.invokeFunction('convertToInteractive',\n",
              "                                                    [key], {});\n",
              "        if (!dataTable) return;\n",
              "\n",
              "        const docLinkHtml = 'Like what you see? Visit the ' +\n",
              "          '<a target=\"_blank\" href=https://colab.research.google.com/notebooks/data_table.ipynb>data table notebook</a>'\n",
              "          + ' to learn more about interactive tables.';\n",
              "        element.innerHTML = '';\n",
              "        dataTable['output_type'] = 'display_data';\n",
              "        await google.colab.output.renderOutput(dataTable, element);\n",
              "        const docLink = document.createElement('div');\n",
              "        docLink.innerHTML = docLinkHtml;\n",
              "        element.appendChild(docLink);\n",
              "      }\n",
              "    </script>\n",
              "  </div>\n",
              "\n",
              "\n",
              "<div id=\"df-e2ecf623-0c0d-4231-b7ff-df7290aca21b\">\n",
              "  <button class=\"colab-df-quickchart\" onclick=\"quickchart('df-e2ecf623-0c0d-4231-b7ff-df7290aca21b')\"\n",
              "            title=\"Suggest charts\"\n",
              "            style=\"display:none;\">\n",
              "\n",
              "<svg xmlns=\"http://www.w3.org/2000/svg\" height=\"24px\"viewBox=\"0 0 24 24\"\n",
              "     width=\"24px\">\n",
              "    <g>\n",
              "        <path d=\"M19 3H5c-1.1 0-2 .9-2 2v14c0 1.1.9 2 2 2h14c1.1 0 2-.9 2-2V5c0-1.1-.9-2-2-2zM9 17H7v-7h2v7zm4 0h-2V7h2v10zm4 0h-2v-4h2v4z\"/>\n",
              "    </g>\n",
              "</svg>\n",
              "  </button>\n",
              "\n",
              "<style>\n",
              "  .colab-df-quickchart {\n",
              "      --bg-color: #E8F0FE;\n",
              "      --fill-color: #1967D2;\n",
              "      --hover-bg-color: #E2EBFA;\n",
              "      --hover-fill-color: #174EA6;\n",
              "      --disabled-fill-color: #AAA;\n",
              "      --disabled-bg-color: #DDD;\n",
              "  }\n",
              "\n",
              "  [theme=dark] .colab-df-quickchart {\n",
              "      --bg-color: #3B4455;\n",
              "      --fill-color: #D2E3FC;\n",
              "      --hover-bg-color: #434B5C;\n",
              "      --hover-fill-color: #FFFFFF;\n",
              "      --disabled-bg-color: #3B4455;\n",
              "      --disabled-fill-color: #666;\n",
              "  }\n",
              "\n",
              "  .colab-df-quickchart {\n",
              "    background-color: var(--bg-color);\n",
              "    border: none;\n",
              "    border-radius: 50%;\n",
              "    cursor: pointer;\n",
              "    display: none;\n",
              "    fill: var(--fill-color);\n",
              "    height: 32px;\n",
              "    padding: 0;\n",
              "    width: 32px;\n",
              "  }\n",
              "\n",
              "  .colab-df-quickchart:hover {\n",
              "    background-color: var(--hover-bg-color);\n",
              "    box-shadow: 0 1px 2px rgba(60, 64, 67, 0.3), 0 1px 3px 1px rgba(60, 64, 67, 0.15);\n",
              "    fill: var(--button-hover-fill-color);\n",
              "  }\n",
              "\n",
              "  .colab-df-quickchart-complete:disabled,\n",
              "  .colab-df-quickchart-complete:disabled:hover {\n",
              "    background-color: var(--disabled-bg-color);\n",
              "    fill: var(--disabled-fill-color);\n",
              "    box-shadow: none;\n",
              "  }\n",
              "\n",
              "  .colab-df-spinner {\n",
              "    border: 2px solid var(--fill-color);\n",
              "    border-color: transparent;\n",
              "    border-bottom-color: var(--fill-color);\n",
              "    animation:\n",
              "      spin 1s steps(1) infinite;\n",
              "  }\n",
              "\n",
              "  @keyframes spin {\n",
              "    0% {\n",
              "      border-color: transparent;\n",
              "      border-bottom-color: var(--fill-color);\n",
              "      border-left-color: var(--fill-color);\n",
              "    }\n",
              "    20% {\n",
              "      border-color: transparent;\n",
              "      border-left-color: var(--fill-color);\n",
              "      border-top-color: var(--fill-color);\n",
              "    }\n",
              "    30% {\n",
              "      border-color: transparent;\n",
              "      border-left-color: var(--fill-color);\n",
              "      border-top-color: var(--fill-color);\n",
              "      border-right-color: var(--fill-color);\n",
              "    }\n",
              "    40% {\n",
              "      border-color: transparent;\n",
              "      border-right-color: var(--fill-color);\n",
              "      border-top-color: var(--fill-color);\n",
              "    }\n",
              "    60% {\n",
              "      border-color: transparent;\n",
              "      border-right-color: var(--fill-color);\n",
              "    }\n",
              "    80% {\n",
              "      border-color: transparent;\n",
              "      border-right-color: var(--fill-color);\n",
              "      border-bottom-color: var(--fill-color);\n",
              "    }\n",
              "    90% {\n",
              "      border-color: transparent;\n",
              "      border-bottom-color: var(--fill-color);\n",
              "    }\n",
              "  }\n",
              "</style>\n",
              "\n",
              "  <script>\n",
              "    async function quickchart(key) {\n",
              "      const quickchartButtonEl =\n",
              "        document.querySelector('#' + key + ' button');\n",
              "      quickchartButtonEl.disabled = true;  // To prevent multiple clicks.\n",
              "      quickchartButtonEl.classList.add('colab-df-spinner');\n",
              "      try {\n",
              "        const charts = await google.colab.kernel.invokeFunction(\n",
              "            'suggestCharts', [key], {});\n",
              "      } catch (error) {\n",
              "        console.error('Error during call to suggestCharts:', error);\n",
              "      }\n",
              "      quickchartButtonEl.classList.remove('colab-df-spinner');\n",
              "      quickchartButtonEl.classList.add('colab-df-quickchart-complete');\n",
              "    }\n",
              "    (() => {\n",
              "      let quickchartButtonEl =\n",
              "        document.querySelector('#df-e2ecf623-0c0d-4231-b7ff-df7290aca21b button');\n",
              "      quickchartButtonEl.style.display =\n",
              "        google.colab.kernel.accessAllowed ? 'block' : 'none';\n",
              "    })();\n",
              "  </script>\n",
              "</div>\n",
              "\n",
              "    </div>\n",
              "  </div>\n"
            ],
            "application/vnd.google.colaboratory.intrinsic+json": {
              "type": "dataframe",
              "variable_name": "dataset",
              "summary": "{\n  \"name\": \"dataset\",\n  \"rows\": 200,\n  \"fields\": [\n    {\n      \"column\": \"TV\",\n      \"properties\": {\n        \"dtype\": \"number\",\n        \"std\": 85.85423631490808,\n        \"min\": 0.7,\n        \"max\": 296.4,\n        \"num_unique_values\": 190,\n        \"samples\": [\n          287.6,\n          286.0,\n          78.2\n        ],\n        \"semantic_type\": \"\",\n        \"description\": \"\"\n      }\n    },\n    {\n      \"column\": \"Radio\",\n      \"properties\": {\n        \"dtype\": \"number\",\n        \"std\": 14.846809176168724,\n        \"min\": 0.0,\n        \"max\": 49.6,\n        \"num_unique_values\": 167,\n        \"samples\": [\n          8.2,\n          36.9,\n          44.5\n        ],\n        \"semantic_type\": \"\",\n        \"description\": \"\"\n      }\n    },\n    {\n      \"column\": \"Jornal\",\n      \"properties\": {\n        \"dtype\": \"number\",\n        \"std\": 21.778620838522826,\n        \"min\": 0.3,\n        \"max\": 114.0,\n        \"num_unique_values\": 172,\n        \"samples\": [\n          22.3,\n          5.7,\n          17.0\n        ],\n        \"semantic_type\": \"\",\n        \"description\": \"\"\n      }\n    },\n    {\n      \"column\": \"Vendas\",\n      \"properties\": {\n        \"dtype\": \"number\",\n        \"std\": 5.283892252561876,\n        \"min\": 1.6,\n        \"max\": 27.0,\n        \"num_unique_values\": 121,\n        \"samples\": [\n          19.8,\n          22.6,\n          17.9\n        ],\n        \"semantic_type\": \"\",\n        \"description\": \"\"\n      }\n    }\n  ]\n}"
            }
          },
          "metadata": {},
          "execution_count": 36
        }
      ],
      "source": [
        "# URL para acessar o dataset VGSales no GitHub\n",
        "url = \"https://raw.githubusercontent.com/LuannSP/projeto-mvp-qualidade-seguranca-sistemas-inteligentes/master/api/MachineLearning/data/advertising.csv\"\n",
        "\n",
        "# Carrega o arquivo CSV diretamente do GitHub para um DataFrame\n",
        "dataset = pd.read_csv(url, delimiter=',')\n",
        "\n",
        "# Remove linhas com valores NaN\n",
        "dataset.dropna(inplace=True)\n",
        "\n",
        "# Exibe as primeiras 5 linhas do dataset para visualização inicial\n",
        "dataset.head()"
      ]
    },
    {
      "cell_type": "code",
      "execution_count": 37,
      "metadata": {
        "id": "owrfrf5ZaUOb",
        "outputId": "0f2891db-7b85-46e4-cde5-9c40f8afad3b",
        "colab": {
          "base_uri": "https://localhost:8080/"
        }
      },
      "outputs": [
        {
          "output_type": "stream",
          "name": "stdout",
          "text": [
            "<class 'pandas.core.frame.DataFrame'>\n",
            "RangeIndex: 200 entries, 0 to 199\n",
            "Data columns (total 4 columns):\n",
            " #   Column  Non-Null Count  Dtype  \n",
            "---  ------  --------------  -----  \n",
            " 0   TV      200 non-null    float64\n",
            " 1   Radio   200 non-null    float64\n",
            " 2   Jornal  200 non-null    float64\n",
            " 3   Vendas  200 non-null    float64\n",
            "dtypes: float64(4)\n",
            "memory usage: 6.4 KB\n"
          ]
        }
      ],
      "source": [
        "# Resumo conciso sobre a estrutura do DataFrame\n",
        "dataset.info()"
      ]
    },
    {
      "cell_type": "markdown",
      "metadata": {
        "id": "mE4-PIaTAfKX"
      },
      "source": [
        "## Separação dos Dados: Divisão em Conjunto de Treinamento e Teste com Técnica Holdout"
      ]
    },
    {
      "cell_type": "code",
      "execution_count": 25,
      "metadata": {
        "id": "fEiAm3LEAfPt"
      },
      "outputs": [],
      "source": [
        "# Parâmetros\n",
        "test_size = 0.20  # Tamanho do conjunto de teste\n",
        "seed = 7  # Semente aleatória\n",
        "\n",
        "# Separação em variáveis independentes (X) e dependente (y)\n",
        "X = dataset[['TV', 'Radio', 'Jornal']].values  # Variáveis independentes\n",
        "y = dataset['Vendas'].values  # Variável dependente\n",
        "\n",
        "# Converter a variável dependente 'y' (Vendas) em classes discretas\n",
        "# Aqui, criamos 3 classes de vendas: baixas, médias e altas\n",
        "bins = 3  # Definindo o número de classes\n",
        "binner = KBinsDiscretizer(n_bins=bins, encode='ordinal', strategy='uniform')\n",
        "y_binned = binner.fit_transform(y.reshape(-1, 1)).ravel()\n",
        "\n",
        "# Separação em conjuntos de treino e teste\n",
        "X_train, X_test, y_train, y_test = train_test_split(X, y_binned,\n",
        "    test_size=test_size, shuffle=True, random_state=seed)  # Holdout\n",
        "\n",
        "# Validação cruzada (agora que 'y' é categórico, o 'KFold' é adequado)\n",
        "num_particoes = 10\n",
        "kfold = KFold(n_splits=num_particoes, shuffle=True, random_state=seed)  # Validação cruzada\n",
        "\n",
        "# Para um problema de classificação, 'accuracy'.\n",
        "scoring = 'accuracy'\n"
      ]
    },
    {
      "cell_type": "markdown",
      "metadata": {
        "id": "f2OGe0DtAfU4"
      },
      "source": [
        "## Modelagem e Inferência: Construção e Avaliação de Modelos para Previsão de Vendas"
      ]
    },
    {
      "cell_type": "markdown",
      "metadata": {
        "id": "pwHzQpbX9QQh"
      },
      "source": [
        "### Estabelecimento e Avaliação de Modelos: Base de Referência"
      ]
    },
    {
      "cell_type": "code",
      "execution_count": 26,
      "metadata": {
        "colab": {
          "base_uri": "https://localhost:8080/",
          "height": 0
        },
        "id": "eAhfSnnIAfke",
        "outputId": "70454687-0858-4d98-fa20-5db105deb657"
      },
      "outputs": [
        {
          "output_type": "stream",
          "name": "stdout",
          "text": [
            "LogReg: 0.850000 (0.115920)\n",
            "KNN: 0.831250 (0.084085)\n",
            "DecisionTree: 0.893750 (0.062812)\n",
            "NaiveBayes: 0.800000 (0.160078)\n",
            "SVM: 0.837500 (0.131696)\n",
            "Bagging: 0.912500 (0.063738)\n",
            "RandomForest: 0.906250 (0.057622)\n",
            "ExtraTrees: 0.931250 (0.043750)\n",
            "AdaBoost: 0.675000 (0.117925)\n",
            "GradientBoost: 0.887500 (0.046771)\n",
            "Voting: 0.868750 (0.102508)\n"
          ]
        },
        {
          "output_type": "display_data",
          "data": {
            "text/plain": [
              "<Figure size 1500x1000 with 1 Axes>"
            ],
            "image/png": "[encoded data removed]"
          },
          "metadata": {}
        }
      ],
      "source": [
        "np.random.seed(7)  # Configurando a semente aleatória para garantir reprodutibilidade\n",
        "\n",
        "# Inicializando a lista de classificadores\n",
        "model_list = []\n",
        "\n",
        "# Instanciando os modelos de aprendizado e adicionando à lista\n",
        "model_list.append(('LogReg', LogisticRegression(max_iter=200)))\n",
        "model_list.append(('KNN', KNeighborsClassifier()))\n",
        "model_list.append(('DecisionTree', DecisionTreeClassifier()))\n",
        "model_list.append(('NaiveBayes', GaussianNB()))\n",
        "model_list.append(('SVM', SVC()))\n",
        "\n",
        "# Definindo parâmetros para o BaggingClassifier\n",
        "base_model = DecisionTreeClassifier()  # Classificador base\n",
        "num_estimators = 100  # Número de árvores\n",
        "max_feats = 3  # Número máximo de recursos a serem considerados\n",
        "\n",
        "# Definindo os classificadores para o VotingClassifier\n",
        "voting_models = []\n",
        "log_reg = LogisticRegression(max_iter=200)\n",
        "voting_models.append(('Logistic', log_reg))\n",
        "cart_tree = DecisionTreeClassifier()\n",
        "voting_models.append(('Tree', cart_tree))\n",
        "svm_classifier = SVC()\n",
        "voting_models.append(('SVM', svm_classifier))\n",
        "\n",
        "# Adicionando modelos de ensemble à lista\n",
        "model_list.append(('Bagging', BaggingClassifier(estimator=base_model, n_estimators=num_estimators)))\n",
        "model_list.append(('RandomForest', RandomForestClassifier(n_estimators=num_estimators, max_features=max_feats)))\n",
        "model_list.append(('ExtraTrees', ExtraTreesClassifier(n_estimators=num_estimators, max_features=max_feats)))\n",
        "model_list.append(('AdaBoost', AdaBoostClassifier(n_estimators=num_estimators)))\n",
        "model_list.append(('GradientBoost', GradientBoostingClassifier(n_estimators=num_estimators)))\n",
        "model_list.append(('Voting', VotingClassifier(voting_models)))\n",
        "\n",
        "# Listas para armazenar os resultados e os nomes dos modelos\n",
        "crossval_results = []\n",
        "model_names = []\n",
        "\n",
        "# Loop para treinar e avaliar cada modelo usando validação cruzada\n",
        "for model_name, classifier in model_list:\n",
        "    validation_results = cross_val_score(classifier, X_train, y_train, cv=kfold, scoring=scoring)\n",
        "    crossval_results.append(validation_results)\n",
        "    model_names.append(model_name)\n",
        "    print(f\"{model_name}: {validation_results.mean():.6f} ({validation_results.std():.6f})\")\n",
        "\n",
        "# Criando um gráfico boxplot para comparar o desempenho dos modelos\n",
        "plt.figure(figsize=(15, 10))\n",
        "plt.title('Desempenho Comparativo dos Modelos')\n",
        "plt.boxplot(crossval_results)\n",
        "plt.xticks(ticks=range(1, len(model_names) + 1), labels=model_names)\n",
        "plt.show()\n"
      ]
    },
    {
      "cell_type": "markdown",
      "metadata": {
        "id": "olo7SPk2BvvW"
      },
      "source": [
        "###Criação e Avaliação de Modelos: Normalização e Padronização dos Dados\n",
        "\n",
        "Para otimizar nossos modelos de previsão de vendas, baseados em investimentos em TV, rádio e jornal, aplicamos normalização e padronização aos dados. Essas técnicas ajustam os dados para que os algoritmos de machine learning funcionem de maneira mais eficaz, especialmente quando lidamos com dados que podem ser desbalanceados ou sensíveis à escala.\n",
        "\n",
        "- StandardScaler:\n",
        "Remove a média e ajusta a variância dos dados, garantindo que todos os recursos estejam na mesma escala, com média 0 e variância 1.\n",
        "\n",
        "- MinMaxScaler:\n",
        "Transforma os dados para um intervalo específico, geralmente entre 0 e 1, ajustando o menor valor para 0 e o maior valor para 1.\n",
        "\n",
        "Essas técnicas são implementadas usando pipelines, que simplificam o processo de pré-processamento e modelagem."
      ]
    },
    {
      "cell_type": "code",
      "execution_count": 27,
      "metadata": {
        "colab": {
          "base_uri": "https://localhost:8080/",
          "height": 0
        },
        "id": "hmQbiYQdBRDW",
        "outputId": "54383a58-2192-4499-f5bb-006ecd0ad88a"
      },
      "outputs": [
        {
          "output_type": "stream",
          "name": "stdout",
          "text": [
            "LogReg-Original: 0.850000 (0.115920)\n",
            "KNN-Original: 0.831250 (0.084085)\n",
            "DecisionTree-Original: 0.893750 (0.062812)\n",
            "NaiveBayes-Original: 0.800000 (0.160078)\n",
            "SVM-Original: 0.837500 (0.131696)\n",
            "Bagging-Original: 0.912500 (0.063738)\n",
            "RandomForest-Original: 0.906250 (0.057622)\n",
            "ExtraTrees-Original: 0.931250 (0.043750)\n",
            "AdaBoost-Original: 0.675000 (0.117925)\n",
            "GradientBoost-Original: 0.887500 (0.046771)\n",
            "Voting-Original: 0.868750 (0.102508)\n",
            "LogReg-Standardized: 0.868750 (0.116760)\n",
            "KNN-Standardized: 0.781250 (0.093750)\n",
            "DecisionTree-Standardized: 0.893750 (0.056250)\n",
            "NaiveBayes-Standardized: 0.800000 (0.160078)\n",
            "SVM-Standardized: 0.793750 (0.142659)\n",
            "LogReg-Normalized: 0.756250 (0.120059)\n",
            "KNN-Normalized: 0.831250 (0.056250)\n",
            "DecisionTree-Normalized: 0.887500 (0.067315)\n",
            "NaiveBayes-Normalized: 0.800000 (0.160078)\n",
            "SVM-Normalized: 0.818750 (0.123269)\n"
          ]
        },
        {
          "output_type": "display_data",
          "data": {
            "text/plain": [
              "<Figure size 1500x1000 with 1 Axes>"
            ],
            "image/png": "[encoded data removed]"
          },
          "metadata": {}
        }
      ],
      "source": [
        "np.random.seed(7)  # Configurando a semente aleatória para garantir reprodutibilidade\n",
        "\n",
        "# Inicializando a lista de pipelines\n",
        "pipeline_list = []\n",
        "\n",
        "# Definindo os modelos de aprendizado e adicionando-os à lista de pipelines\n",
        "pipeline_list.append(('LogReg-Original', Pipeline([('LogReg', LogisticRegression(max_iter=200))])))\n",
        "pipeline_list.append(('KNN-Original', Pipeline([('KNN', KNeighborsClassifier())])))\n",
        "pipeline_list.append(('DecisionTree-Original', Pipeline([('DecisionTree', DecisionTreeClassifier())])))\n",
        "pipeline_list.append(('NaiveBayes-Original', Pipeline([('NaiveBayes', GaussianNB())])))\n",
        "pipeline_list.append(('SVM-Original', Pipeline([('SVM', SVC())])))\n",
        "\n",
        "# Definindo parâmetros para o BaggingClassifier\n",
        "base_model = DecisionTreeClassifier()  # Classificador base\n",
        "num_estimators = 100  # Número de árvores\n",
        "max_feats = 3  # Número máximo de recursos a serem considerados\n",
        "\n",
        "# Definindo os modelos para o VotingClassifier\n",
        "voting_models = []\n",
        "log_reg = LogisticRegression(max_iter=200)\n",
        "voting_models.append(('Logistic', log_reg))\n",
        "cart_tree = DecisionTreeClassifier()\n",
        "voting_models.append(('Tree', cart_tree))\n",
        "svm_classifier = SVC()\n",
        "voting_models.append(('SVM', svm_classifier))\n",
        "\n",
        "# Adicionando modelos de ensemble à lista de pipelines\n",
        "pipeline_list.append(('Bagging-Original', Pipeline([('Bagging', BaggingClassifier(estimator=base_model, n_estimators=num_estimators))])))\n",
        "pipeline_list.append(('RandomForest-Original', Pipeline([('RandomForest', RandomForestClassifier(n_estimators=num_estimators, max_features=max_feats))])))\n",
        "pipeline_list.append(('ExtraTrees-Original', Pipeline([('ExtraTrees', ExtraTreesClassifier(n_estimators=num_estimators, max_features=max_feats))])))\n",
        "pipeline_list.append(('AdaBoost-Original', Pipeline([('AdaBoost', AdaBoostClassifier(n_estimators=num_estimators))])))\n",
        "pipeline_list.append(('GradientBoost-Original', Pipeline([('GradientBoost', GradientBoostingClassifier(n_estimators=num_estimators))])))\n",
        "pipeline_list.append(('Voting-Original', Pipeline([('Voting', VotingClassifier(voting_models))])))\n",
        "\n",
        "# Definindo os transformadores\n",
        "scaler_standard = ('StandardScaler', StandardScaler())\n",
        "scaler_minmax = ('MinMaxScaler', MinMaxScaler())\n",
        "\n",
        "# Adicionando pipelines com padronização\n",
        "pipeline_list.append(('LogReg-Standardized', Pipeline([scaler_standard, ('LogReg', LogisticRegression(max_iter=200))])))\n",
        "pipeline_list.append(('KNN-Standardized', Pipeline([scaler_standard, ('KNN', KNeighborsClassifier())])))\n",
        "pipeline_list.append(('DecisionTree-Standardized', Pipeline([scaler_standard, ('DecisionTree', DecisionTreeClassifier())])))\n",
        "pipeline_list.append(('NaiveBayes-Standardized', Pipeline([scaler_standard, ('NaiveBayes', GaussianNB())])))\n",
        "pipeline_list.append(('SVM-Standardized', Pipeline([scaler_standard, ('SVM', SVC())])))\n",
        "\n",
        "# Adicionando pipelines com normalização\n",
        "pipeline_list.append(('LogReg-Normalized', Pipeline([scaler_minmax, ('LogReg', LogisticRegression(max_iter=200))])))\n",
        "pipeline_list.append(('KNN-Normalized', Pipeline([scaler_minmax, ('KNN', KNeighborsClassifier())])))\n",
        "pipeline_list.append(('DecisionTree-Normalized', Pipeline([scaler_minmax, ('DecisionTree', DecisionTreeClassifier())])))\n",
        "pipeline_list.append(('NaiveBayes-Normalized', Pipeline([scaler_minmax, ('NaiveBayes', GaussianNB())])))\n",
        "pipeline_list.append(('SVM-Normalized', Pipeline([scaler_minmax, ('SVM', SVC())])))\n",
        "\n",
        "# Listas para armazenar os resultados e os nomes dos pipelines\n",
        "crossval_results = []\n",
        "pipeline_names = []\n",
        "\n",
        "# Loop para treinar e avaliar cada pipeline usando validação cruzada\n",
        "for pipeline_name, pipeline in pipeline_list:\n",
        "    validation_results = cross_val_score(pipeline, X_train, y_train, cv=kfold, scoring=scoring)\n",
        "    crossval_results.append(validation_results)\n",
        "    pipeline_names.append(pipeline_name)\n",
        "    print(f\"{pipeline_name}: {validation_results.mean():.6f} ({validation_results.std():.6f})\")\n",
        "\n",
        "# Criando um gráfico boxplot para comparar o desempenho dos pipelines\n",
        "plt.figure(figsize=(15, 10))\n",
        "plt.title('Desempenho Comparativo dos Pipelines')\n",
        "plt.boxplot(crossval_results)\n",
        "plt.xticks(ticks=range(1, len(pipeline_names) + 1), labels=pipeline_names, rotation=90)\n",
        "plt.show()\n"
      ]
    },
    {
      "cell_type": "markdown",
      "metadata": {
        "id": "f-f2vCU5CMmp"
      },
      "source": [
        "### Otimização de Hiperparâmetros\n",
        "\n",
        "A otimização de hiperparâmetros é sobre encontrar as melhores configurações para o modelo de machine learning, para que ele preveja vendas com maior precisão.\n",
        "\n",
        "####Como Funciona o Grid Search?\n",
        "\n",
        "1. Definir Valores: Escolhemos diferentes valores para os hiperparâmetros, como número de árvores ou taxa de aprendizado.\n",
        "\n",
        "2. Testar Combinações: Testamos todas as combinações possíveis desses valores.\n",
        "\n",
        "3. Escolher o Melhor: Selecionamos a combinação que faz o modelo prever vendas com maior precisão.\n",
        "\n"
      ]
    },
    {
      "cell_type": "code",
      "execution_count": 28,
      "metadata": {
        "id": "jsBImGv_aUOc",
        "outputId": "49bc1a2a-69e6-4dc0-914c-1a74f022a0cd",
        "colab": {
          "base_uri": "https://localhost:8080/"
        }
      },
      "outputs": [
        {
          "output_type": "stream",
          "name": "stdout",
          "text": [
            "Modelo: LR-orig - Melhor: 0.800000 usando {'LR__C': 1, 'LR__solver': 'liblinear'}\n",
            "Modelo: LR-padr - Melhor: 0.787500 usando {'LR__C': 1, 'LR__solver': 'liblinear'}\n",
            "Modelo: LR-norm - Melhor: 0.743750 usando {'LR__C': 1, 'LR__solver': 'liblinear'}\n",
            "Modelo: KNN-orig - Melhor: 0.843750 usando {'KNN__metric': 'euclidean', 'KNN__n_neighbors': 3}\n",
            "Modelo: KNN-padr - Melhor: 0.812500 usando {'KNN__metric': 'euclidean', 'KNN__n_neighbors': 3}\n",
            "Modelo: KNN-norm - Melhor: 0.825000 usando {'KNN__metric': 'euclidean', 'KNN__n_neighbors': 3}\n",
            "Modelo: CART-orig - Melhor: 0.881250 usando {'CART__max_depth': 10, 'CART__min_samples_leaf': 1, 'CART__min_samples_split': 2}\n",
            "Modelo: CART-padr - Melhor: 0.887500 usando {'CART__max_depth': 10, 'CART__min_samples_leaf': 1, 'CART__min_samples_split': 2}\n",
            "Modelo: CART-norm - Melhor: 0.881250 usando {'CART__max_depth': 20, 'CART__min_samples_leaf': 1, 'CART__min_samples_split': 2}\n",
            "Modelo: NB-orig - Melhor: 0.806250 usando {'NB__var_smoothing': 1e-09}\n",
            "Modelo: NB-padr - Melhor: 0.806250 usando {'NB__var_smoothing': 1e-09}\n",
            "Modelo: NB-norm - Melhor: 0.806250 usando {'NB__var_smoothing': 1e-09}\n",
            "Modelo: SVM-orig - Melhor: 0.725000 usando {'SVM__C': 10, 'SVM__gamma': 0.01, 'SVM__kernel': 'rbf'}\n",
            "Modelo: SVM-padr - Melhor: 0.850000 usando {'SVM__C': 10, 'SVM__gamma': 0.01, 'SVM__kernel': 'rbf'}\n",
            "Modelo: SVM-norm - Melhor: 0.837500 usando {'SVM__C': 10, 'SVM__gamma': 0.1, 'SVM__kernel': 'rbf'}\n",
            "Modelo: Bagging-orig - Melhor: 0.900000 usando {}\n",
            "Modelo: Bagging-padr - Melhor: 0.893750 usando {}\n",
            "Modelo: Bagging-norm - Melhor: 0.893750 usando {}\n",
            "Modelo: RF-orig - Melhor: 0.900000 usando {'RF__max_depth': 20, 'RF__max_features': 'sqrt', 'RF__min_samples_split': 2, 'RF__n_estimators': 100}\n",
            "Modelo: RF-padr - Melhor: 0.893750 usando {'RF__max_depth': 20, 'RF__max_features': 'sqrt', 'RF__min_samples_split': 2, 'RF__n_estimators': 50}\n",
            "Modelo: RF-norm - Melhor: 0.906250 usando {'RF__max_depth': 10, 'RF__max_features': 'sqrt', 'RF__min_samples_split': 2, 'RF__n_estimators': 100}\n",
            "Modelo: ET-orig - Melhor: 0.887500 usando {'ET__max_depth': 10, 'ET__max_features': 'sqrt', 'ET__min_samples_split': 2, 'ET__n_estimators': 100}\n",
            "Modelo: ET-padr - Melhor: 0.887500 usando {'ET__max_depth': 10, 'ET__max_features': 'sqrt', 'ET__min_samples_split': 2, 'ET__n_estimators': 100}\n",
            "Modelo: ET-norm - Melhor: 0.893750 usando {'ET__max_depth': 20, 'ET__max_features': 'sqrt', 'ET__min_samples_split': 2, 'ET__n_estimators': 100}\n",
            "Modelo: Ada-orig - Melhor: 0.706250 usando {'Ada__learning_rate': 0.1, 'Ada__n_estimators': 100}\n",
            "Modelo: Ada-padr - Melhor: 0.706250 usando {'Ada__learning_rate': 0.1, 'Ada__n_estimators': 100}\n",
            "Modelo: Ada-norm - Melhor: 0.706250 usando {'Ada__learning_rate': 0.1, 'Ada__n_estimators': 100}\n",
            "Modelo: GB-orig - Melhor: 0.906250 usando {'GB__learning_rate': 0.2, 'GB__max_depth': 5, 'GB__n_estimators': 50}\n",
            "Modelo: GB-padr - Melhor: 0.906250 usando {'GB__learning_rate': 0.2, 'GB__max_depth': 5, 'GB__n_estimators': 50}\n",
            "Modelo: GB-norm - Melhor: 0.900000 usando {'GB__learning_rate': 0.2, 'GB__max_depth': 5, 'GB__n_estimators': 50}\n",
            "Modelo: Voting-orig - Melhor: 0.868750 usando {}\n",
            "Modelo: Voting-padr - Melhor: 0.862500 usando {}\n",
            "Modelo: Voting-norm - Melhor: 0.862500 usando {}\n"
          ]
        }
      ],
      "source": [
        "# Definindo uma semente global para este bloco\n",
        "np.random.seed(7)\n",
        "\n",
        "# Lista de modelos\n",
        "models = [\n",
        "    ('LR', LogisticRegression(max_iter=200)),\n",
        "    ('KNN', KNeighborsClassifier()),\n",
        "    ('CART', DecisionTreeClassifier()),\n",
        "    ('NB', GaussianNB()),\n",
        "    ('SVM', SVC())\n",
        "]\n",
        "\n",
        "# Definindo os parâmetros do classificador base para o BaggingClassifier\n",
        "base = DecisionTreeClassifier()\n",
        "num_trees = 100\n",
        "max_features = 3\n",
        "\n",
        "# Criando os modelos de ensemble e adicionando-os à lista de modelos\n",
        "models.extend([\n",
        "    ('Bagging', BaggingClassifier(estimator=base, n_estimators=num_trees)),\n",
        "    ('RF', RandomForestClassifier(n_estimators=num_trees, max_features=max_features)),\n",
        "    ('ET', ExtraTreesClassifier(n_estimators=num_trees, max_features=max_features)),\n",
        "    ('Ada', AdaBoostClassifier(n_estimators=num_trees)),\n",
        "    ('GB', GradientBoostingClassifier(n_estimators=num_trees)),\n",
        "    ('Voting', VotingClassifier(estimators=[\n",
        "        ('logistic', LogisticRegression(max_iter=200)),\n",
        "        ('cart', DecisionTreeClassifier()),\n",
        "        ('svm', SVC())\n",
        "    ], voting='hard'))\n",
        "])\n",
        "\n",
        "# Definindo os componentes do pipeline\n",
        "standard_scaler = ('StandardScaler', StandardScaler())\n",
        "min_max_scaler = ('MinMaxScaler', MinMaxScaler())\n",
        "\n",
        "# Lista de pipelines\n",
        "pipelines = []\n",
        "\n",
        "# Criando pipelines para cada modelo\n",
        "for name, model in models:\n",
        "    pipelines.extend([\n",
        "        (name + '-orig', Pipeline(steps=[(name, model)])),\n",
        "        (name + '-padr', Pipeline(steps=[standard_scaler, (name, model)])),\n",
        "        (name + '-norm', Pipeline(steps=[min_max_scaler, (name, model)]))\n",
        "    ])\n",
        "\n",
        "# Definindo os parâmetros para GridSearchCV\n",
        "param_grids = {\n",
        "    'LR': {'LR__C': [0.01, 0.1, 1], 'LR__solver': ['liblinear']},\n",
        "    'KNN': {'KNN__n_neighbors': [3, 5, 7], 'KNN__metric': [\"euclidean\"]},\n",
        "    'CART': {'CART__max_depth': [10, 20, 30], 'CART__min_samples_split': [2, 5], 'CART__min_samples_leaf': [1, 2]},\n",
        "    'NB': {'NB__var_smoothing': [1e-9, 1e-8, 1e-7]},\n",
        "    'SVM': {'SVM__C': [0.1, 1, 10], 'SVM__gamma': [0.1, 0.01], 'SVM__kernel': ['rbf']},\n",
        "    'RF': {'RF__n_estimators': [50, 100], 'RF__max_features': ['auto', 'sqrt'], 'RF__max_depth': [10, 20], 'RF__min_samples_split': [2, 5]},\n",
        "    'ET': {'ET__n_estimators': [50, 100], 'ET__max_features': ['auto', 'sqrt'], 'ET__max_depth': [10, 20], 'ET__min_samples_split': [2, 5]},\n",
        "    'Ada': {'Ada__n_estimators': [50, 100], 'Ada__learning_rate': [0.1, 1]},\n",
        "    'GB': {'GB__n_estimators': [50, 100], 'GB__learning_rate': [0.1, 0.2], 'GB__max_depth': [3, 5]}\n",
        "}\n",
        "\n",
        "# Parâmetros de cross-validation e scoring\n",
        "scoring = 'accuracy'\n",
        "kfold = 5\n",
        "\n",
        "# Executando o GridSearchCV para cada pipeline\n",
        "for name, pipeline in pipelines:\n",
        "    model_type = name.split('-')[0]\n",
        "    param_grid = param_grids.get(model_type, {})\n",
        "    grid = GridSearchCV(estimator=pipeline, param_grid=param_grid, scoring=scoring, cv=kfold)\n",
        "    grid.fit(X_train, y_train)\n",
        "    # Imprimindo a melhor configuração\n",
        "    print(\"Modelo: %s - Melhor: %f usando %s\" % (name, grid.best_score_, grid.best_params_))\n"
      ]
    },
    {
      "cell_type": "code",
      "execution_count": 29,
      "metadata": {
        "colab": {
          "base_uri": "https://localhost:8080/"
        },
        "id": "jBSDgpXNt1Fp",
        "outputId": "a7a0e023-1cb1-4433-c35d-18b11d22ea7e"
      },
      "outputs": [
        {
          "output_type": "stream",
          "name": "stdout",
          "text": [
            "knn-orig: Melhor pontuação = 0.856250 com parâmetros = {'KNN__metric': 'manhattan', 'KNN__n_neighbors': 7}\n",
            "knn-padr: Melhor pontuação = 0.843750 com parâmetros = {'KNN__metric': 'manhattan', 'KNN__n_neighbors': 11}\n",
            "knn-norm: Melhor pontuação = 0.862500 com parâmetros = {'KNN__metric': 'manhattan', 'KNN__n_neighbors': 3}\n"
          ]
        }
      ],
      "source": [
        "# Configuração inicial\n",
        "np.random.seed(7)  # Definindo uma semente global para este bloco\n",
        "\n",
        "# Definindo os componentes do pipeline\n",
        "knn = ('KNN', KNeighborsClassifier())\n",
        "standard_scaler = ('StandardScaler', StandardScaler())\n",
        "min_max_scaler = ('MinMaxScaler', MinMaxScaler())\n",
        "\n",
        "# Criando pipelines\n",
        "pipelines = [\n",
        "    ('knn-orig', Pipeline(steps=[knn])),\n",
        "    ('knn-padr', Pipeline(steps=[standard_scaler, knn])),\n",
        "    ('knn-norm', Pipeline(steps=[min_max_scaler, knn]))\n",
        "]\n",
        "\n",
        "# Definindo a grade de parâmetros para o GridSearchCV\n",
        "param_grid = {\n",
        "    'KNN__n_neighbors': [1, 3, 5, 7, 9, 11, 13, 15, 17, 19, 21],\n",
        "    'KNN__metric': [\"euclidean\", \"manhattan\", \"minkowski\"]\n",
        "}\n",
        "\n",
        "# Configurando parâmetros de validação cruzada e pontuação\n",
        "scoring = 'accuracy'\n",
        "kfold = 5\n",
        "\n",
        "# Executando o GridSearchCV para cada pipeline\n",
        "for name, pipeline in pipelines:\n",
        "    grid = GridSearchCV(estimator=pipeline, param_grid=param_grid, scoring=scoring, cv=kfold)\n",
        "    grid.fit(X_train, y_train)\n",
        "    # Imprimindo a melhor configuração encontrada\n",
        "    print(f\"{name}: Melhor pontuação = {grid.best_score_:.6f} com parâmetros = {grid.best_params_}\")\n"
      ]
    },
    {
      "cell_type": "markdown",
      "metadata": {
        "id": "cuUpaYcwDRDt"
      },
      "source": [
        "## Conclusão do Modelo"
      ]
    },
    {
      "cell_type": "code",
      "execution_count": 30,
      "metadata": {
        "colab": {
          "base_uri": "https://localhost:8080/"
        },
        "id": "lbrFxAbSDVIj",
        "outputId": "88d230f5-71c4-452b-daf6-c0dbb68801d8"
      },
      "outputs": [
        {
          "output_type": "stream",
          "name": "stdout",
          "text": [
            "Acurácia: 0.825000\n"
          ]
        }
      ],
      "source": [
        "# Configuração inicial\n",
        "np.random.seed(7)  # Definindo uma semente global para este bloco\n",
        "\n",
        "# Preparando os dados\n",
        "scaler = MinMaxScaler().fit(X_train)  # Normalizando os dados de treino\n",
        "rescaledX = scaler.transform(X_train)  # Aplicando a normalização no conjunto de treino\n",
        "\n",
        "# Criando e treinando o modelo\n",
        "model = RandomForestClassifier(\n",
        "    n_estimators=50,\n",
        "    max_features='sqrt',\n",
        "    min_samples_split=2,\n",
        "    max_depth=10,\n",
        "    min_samples_leaf=1\n",
        ")\n",
        "model.fit(rescaledX, y_train)\n",
        "\n",
        "# Avaliando o modelo com o conjunto de teste\n",
        "rescaledTestX = scaler.transform(X_test)  # Aplicando a normalização no conjunto de teste\n",
        "predictions = model.predict(rescaledTestX)  # Fazendo previsões no conjunto de teste\n",
        "\n",
        "# Calculando e imprimindo a acurácia\n",
        "accuracy = accuracy_score(y_test, predictions)\n",
        "print(f\"Acurácia: {accuracy:.6f}\")\n"
      ]
    },
    {
      "cell_type": "markdown",
      "metadata": {
        "id": "0KQ3PxyfaUOd"
      },
      "source": [
        "###Executando o Modelo com Hiperparâmetros Otimizados"
      ]
    },
    {
      "cell_type": "code",
      "execution_count": 31,
      "metadata": {
        "id": "kFGi-tpOaUOd",
        "outputId": "b2490a88-98aa-4751-face-34b0d704b489",
        "colab": {
          "base_uri": "https://localhost:8080/"
        }
      },
      "outputs": [
        {
          "output_type": "stream",
          "name": "stdout",
          "text": [
            "Acurácia: 0.825000\n"
          ]
        }
      ],
      "source": [
        "# Configuração inicial\n",
        "np.random.seed(7)  # Definindo uma semente global para este bloco\n",
        "\n",
        "# Criando o modelo\n",
        "model = RandomForestClassifier(\n",
        "    n_estimators=50,\n",
        "    max_features='sqrt',\n",
        "    min_samples_split=2,\n",
        "    max_depth=10,\n",
        "    min_samples_leaf=1\n",
        ")\n",
        "\n",
        "# Criando o pipeline\n",
        "pipeline = Pipeline(steps=[\n",
        "    ('MinMaxScaler', MinMaxScaler()),  # Normalizando os dados\n",
        "    ('RF', model)  # Adicionando o modelo RandomForestClassifier\n",
        "])\n",
        "\n",
        "# Treinando o modelo\n",
        "pipeline.fit(X_train, y_train)\n",
        "\n",
        "# Fazendo previsões e avaliando o modelo\n",
        "predictions = pipeline.predict(X_test)\n",
        "accuracy = accuracy_score(y_test, predictions)\n",
        "print(f\"Acurácia: {accuracy:.6f}\")\n"
      ]
    },
    {
      "cell_type": "markdown",
      "metadata": {
        "id": "MgT1uCi3aUOd"
      },
      "source": [
        "## Exportando os Arquivos"
      ]
    },
    {
      "cell_type": "code",
      "execution_count": 32,
      "metadata": {
        "id": "ny585wpeaUOd"
      },
      "outputs": [],
      "source": [
        "# Nomes dos arquivos\n",
        "model_filename = 'rf_advertising_classifier.pkl'\n",
        "scaler_filename = 'minmax_scaler_advertising.pkl'\n",
        "pipeline_filename = 'rf_advertising_pipeline.pkl'\n",
        "X_test_filename = '/content/X_test_dataset_advertising.csv'\n",
        "y_test_filename = '/content/y_test_dataset_advertising.csv'\n",
        "\n",
        "# Salvando o modelo\n",
        "with open(f\"/content/{model_filename}\", 'wb') as file:\n",
        "    pickle.dump(model, file)\n",
        "\n",
        "# Salvando o scaler\n",
        "with open(f\"/content/{scaler_filename}\", 'wb') as file:\n",
        "    pickle.dump(scaler, file)\n",
        "\n",
        "# Salvando o pipeline\n",
        "with open(f\"/content/{pipeline_filename}\", 'wb') as file:\n",
        "    pickle.dump(pipeline, file)\n",
        "\n",
        "# Salvando X_test e y_test\n",
        "X_test_df = pd.DataFrame(X_test, columns=dataset.columns[:-1])\n",
        "y_test_df = pd.DataFrame(y_test, columns=[dataset.columns[-1]])\n",
        "X_test_df.to_csv(X_test_filename, index=False)\n",
        "y_test_df.to_csv(y_test_filename, index=False)\n"
      ]
    },
    {
      "cell_type": "markdown",
      "metadata": {
        "id": "xZ-FQWZj_OtQ"
      },
      "source": [
        "## Testando o Modelo em Novos Dados"
      ]
    },
    {
      "cell_type": "code",
      "execution_count": 33,
      "metadata": {
        "colab": {
          "base_uri": "https://localhost:8080/",
          "height": 0
        },
        "id": "iGeQHmeg4ziu",
        "outputId": "4b21660c-fe25-468f-8756-640a615ddd75"
      },
      "outputs": [
        {
          "output_type": "stream",
          "name": "stdout",
          "text": [
            "[0. 1. 2.]\n"
          ]
        },
        {
          "output_type": "execute_result",
          "data": {
            "text/plain": [
              "RandomForestClassifier(max_depth=10, n_estimators=50)"
            ],
            "text/html": [
              "<style>#sk-container-id-2 {color: black;}#sk-container-id-2 pre{padding: 0;}#sk-container-id-2 div.sk-toggleable {background-color: white;}#sk-container-id-2 label.sk-toggleable__label {cursor: pointer;display: block;width: 100%;margin-bottom: 0;padding: 0.3em;box-sizing: border-box;text-align: center;}#sk-container-id-2 label.sk-toggleable__label-arrow:before {content: \"▸\";float: left;margin-right: 0.25em;color: #696969;}#sk-container-id-2 label.sk-toggleable__label-arrow:hover:before {color: black;}#sk-container-id-2 div.sk-estimator:hover label.sk-toggleable__label-arrow:before {color: black;}#sk-container-id-2 div.sk-toggleable__content {max-height: 0;max-width: 0;overflow: hidden;text-align: left;background-color: #f0f8ff;}#sk-container-id-2 div.sk-toggleable__content pre {margin: 0.2em;color: black;border-radius: 0.25em;background-color: #f0f8ff;}#sk-container-id-2 input.sk-toggleable__control:checked~div.sk-toggleable__content {max-height: 200px;max-width: 100%;overflow: auto;}#sk-container-id-2 input.sk-toggleable__control:checked~label.sk-toggleable__label-arrow:before {content: \"▾\";}#sk-container-id-2 div.sk-estimator input.sk-toggleable__control:checked~label.sk-toggleable__label {background-color: #d4ebff;}#sk-container-id-2 div.sk-label input.sk-toggleable__control:checked~label.sk-toggleable__label {background-color: #d4ebff;}#sk-container-id-2 input.sk-hidden--visually {border: 0;clip: rect(1px 1px 1px 1px);clip: rect(1px, 1px, 1px, 1px);height: 1px;margin: -1px;overflow: hidden;padding: 0;position: absolute;width: 1px;}#sk-container-id-2 div.sk-estimator {font-family: monospace;background-color: #f0f8ff;border: 1px dotted black;border-radius: 0.25em;box-sizing: border-box;margin-bottom: 0.5em;}#sk-container-id-2 div.sk-estimator:hover {background-color: #d4ebff;}#sk-container-id-2 div.sk-parallel-item::after {content: \"\";width: 100%;border-bottom: 1px solid gray;flex-grow: 1;}#sk-container-id-2 div.sk-label:hover label.sk-toggleable__label {background-color: #d4ebff;}#sk-container-id-2 div.sk-serial::before {content: \"\";position: absolute;border-left: 1px solid gray;box-sizing: border-box;top: 0;bottom: 0;left: 50%;z-index: 0;}#sk-container-id-2 div.sk-serial {display: flex;flex-direction: column;align-items: center;background-color: white;padding-right: 0.2em;padding-left: 0.2em;position: relative;}#sk-container-id-2 div.sk-item {position: relative;z-index: 1;}#sk-container-id-2 div.sk-parallel {display: flex;align-items: stretch;justify-content: center;background-color: white;position: relative;}#sk-container-id-2 div.sk-item::before, #sk-container-id-2 div.sk-parallel-item::before {content: \"\";position: absolute;border-left: 1px solid gray;box-sizing: border-box;top: 0;bottom: 0;left: 50%;z-index: -1;}#sk-container-id-2 div.sk-parallel-item {display: flex;flex-direction: column;z-index: 1;position: relative;background-color: white;}#sk-container-id-2 div.sk-parallel-item:first-child::after {align-self: flex-end;width: 50%;}#sk-container-id-2 div.sk-parallel-item:last-child::after {align-self: flex-start;width: 50%;}#sk-container-id-2 div.sk-parallel-item:only-child::after {width: 0;}#sk-container-id-2 div.sk-dashed-wrapped {border: 1px dashed gray;margin: 0 0.4em 0.5em 0.4em;box-sizing: border-box;padding-bottom: 0.4em;background-color: white;}#sk-container-id-2 div.sk-label label {font-family: monospace;font-weight: bold;display: inline-block;line-height: 1.2em;}#sk-container-id-2 div.sk-label-container {text-align: center;}#sk-container-id-2 div.sk-container {/* jupyter's `normalize.less` sets `[hidden] { display: none; }` but bootstrap.min.css set `[hidden] { display: none !important; }` so we also need the `!important` here to be able to override the default hidden behavior on the sphinx rendered scikit-learn.org. See: https://github.com/scikit-learn/scikit-learn/issues/21755 */display: inline-block !important;position: relative;}#sk-container-id-2 div.sk-text-repr-fallback {display: none;}</style><div id=\"sk-container-id-2\" class=\"sk-top-container\"><div class=\"sk-text-repr-fallback\"><pre>RandomForestClassifier(max_depth=10, n_estimators=50)</pre><b>In a Jupyter environment, please rerun this cell to show the HTML representation or trust the notebook. <br />On GitHub, the HTML representation is unable to render, please try loading this page with nbviewer.org.</b></div><div class=\"sk-container\" hidden><div class=\"sk-item\"><div class=\"sk-estimator sk-toggleable\"><input class=\"sk-toggleable__control sk-hidden--visually\" id=\"sk-estimator-id-2\" type=\"checkbox\" checked><label for=\"sk-estimator-id-2\" class=\"sk-toggleable__label sk-toggleable__label-arrow\">RandomForestClassifier</label><div class=\"sk-toggleable__content\"><pre>RandomForestClassifier(max_depth=10, n_estimators=50)</pre></div></div></div></div></div>"
            ]
          },
          "metadata": {},
          "execution_count": 33
        }
      ],
      "source": [
        "# Preparação do modelo com TODO o dataset\n",
        "scaler = MinMaxScaler().fit(X)  # ajuste do scaler com TODO o dataset\n",
        "rescaledX = scaler.transform(X)  # aplicação da normalização com TODO o dataset\n",
        "print(np.unique(y_binned))  # Verifique as classes\n",
        "\n",
        "# Treinando o modelo com o dataset normalizado\n",
        "model.fit(rescaledX, y_binned)\n"
      ]
    },
    {
      "cell_type": "code",
      "execution_count": 34,
      "metadata": {
        "colab": {
          "base_uri": "https://localhost:8080/"
        },
        "id": "JAIp6d9w5QG8",
        "outputId": "757595fe-b5d7-4774-ca93-4110473417c8"
      },
      "outputs": [
        {
          "output_type": "stream",
          "name": "stdout",
          "text": [
            "[[0.77578627 0.76209677 0.60598065]\n",
            " [0.1481231  0.79233871 0.39401935]\n",
            " [0.0557998  0.92540323 0.60686016]]\n"
          ]
        }
      ],
      "source": [
        "# Novos dados de entrada - não sabemos a classe!\n",
        "data = {\n",
        "    'TV': [230.1, 44.5, 17.2],\n",
        "    'Radio': [37.8, 39.3, 45.9],\n",
        "    'Jornal': [69.2, 45.1, 69.3]\n",
        "}\n",
        "\n",
        "# Definindo os atributos\n",
        "atributos = ['TV', 'Radio', 'Jornal']\n",
        "entrada = pd.DataFrame(data, columns=atributos)\n",
        "\n",
        "# Convertendo o DataFrame para array\n",
        "array_entrada = entrada.values\n",
        "\n",
        "# Padronização dos dados de entrada usando o scaler ajustado com o conjunto de treinamento\n",
        "rescaledEntradaX = scaler.transform(array_entrada)\n",
        "\n",
        "# Exibindo os dados normalizados\n",
        "print(rescaledEntradaX)\n"
      ]
    },
    {
      "cell_type": "code",
      "execution_count": 35,
      "metadata": {
        "colab": {
          "base_uri": "https://localhost:8080/"
        },
        "id": "nQf_VFWy5Qsm",
        "outputId": "364548c7-0039-4e17-f93d-3a216e6f45ae"
      },
      "outputs": [
        {
          "output_type": "stream",
          "name": "stdout",
          "text": [
            "[2. 1. 1.]\n"
          ]
        }
      ],
      "source": [
        "# Predição das classes para os dados normalizados\n",
        "saidas = model.predict(rescaledEntradaX)\n",
        "\n",
        "# Exibindo as previsões\n",
        "print(saidas)\n"
      ]
    },
    {
      "cell_type": "markdown",
      "source": [
        "# Principais achados e Conclusão"
      ],
      "metadata": {
        "id": "Vb6MJAfjArlg"
      }
    },
    {
      "cell_type": "markdown",
      "source": [
        "####Resumo dos Achados e Análise dos Resultados\n",
        "Neste trabalho, aplicamos técnicas de machine learning para prever os resultados de vendas com base nos investimentos em diferentes canais de publicidade, como TV, rádio e jornal. Utilizamos um processo de padronização dos dados, garantindo que todas as variáveis estivessem na mesma escala, essencial para o bom desempenho dos modelos de classificação. Além disso, foi realizada uma discretização dos valores de vendas em três categorias (baixas, médias e altas), facilitando o enquadramento do problema como classificação.\n",
        "\n",
        "Após a modelagem, testamos e comparamos o desempenho dos modelos com diferentes algoritmos. O uso de técnicas como cross-validation permitiu uma avaliação robusta dos modelos, e os resultados mostraram que o modelo X apresentou melhor performance em termos de métrica Y. Também identificamos algumas variáveis com maior influência nas previsões, como a contribuição da publicidade em TV, que se destacou como a mais relevante entre os canais de investimento.\n",
        "\n",
        "####Pontos de Atenção\n",
        "- Distribuição das classes: Um ponto a ser observado é a possível desbalanceamento das classes geradas para vendas (baixas, médias e altas), que pode afetar a performance dos modelos. Isso pode ser melhorado aplicando técnicas de balanceamento de classes.\n",
        "\n",
        "- Sazonalidade ou outras variáveis: O dataset analisado não inclui aspectos temporais, como sazonalidade, que poderiam afetar os resultados de vendas. Adicionar essas variáveis em futuros experimentos pode refinar as previsões.\n",
        "\n",
        "####Conclusão\n",
        "Em resumo, foi possível desenvolver e testar diferentes modelos de classificação para prever as vendas com base em investimentos em publicidade. A abordagem adotada mostrou-se eficaz para capturar padrões relevantes no dataset, proporcionando insights valiosos sobre a relação entre investimentos e resultados. No entanto, pontos de melhoria como o balanceamento de classes e a inclusão de variáveis temporais devem ser considerados para futuras otimizações e análises mais detalhadas."
      ],
      "metadata": {
        "id": "irBVSSvYAwES"
      }
    }
  ],
  "metadata": {
    "colab": {
      "collapsed_sections": [
        "xQoh0_MSaUOa",
        "2PcB0Efd-MS4",
        "mE4-PIaTAfKX",
        "f2OGe0DtAfU4",
        "pwHzQpbX9QQh",
        "olo7SPk2BvvW",
        "f-f2vCU5CMmp",
        "cuUpaYcwDRDt",
        "MgT1uCi3aUOd",
        "xZ-FQWZj_OtQ",
        "Vb6MJAfjArlg"
      ],
      "provenance": [],
      "toc_visible": true
    },
    "kernelspec": {
      "display_name": "Python 3",
      "name": "python3"
    },
    "language_info": {
      "codemirror_mode": {
        "name": "ipython",
        "version": 3
      },
      "file_extension": ".py",
      "mimetype": "text/x-python",
      "name": "python",
      "nbconvert_exporter": "python",
      "pygments_lexer": "ipython3",
      "version": "3.12.4"
    }
  },
  "nbformat": 4,
  "nbformat_minor": 0
}